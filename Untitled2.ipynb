{
 "cells": [
  {
   "cell_type": "code",
   "execution_count": 52,
   "id": "c5a5f6ed",
   "metadata": {},
   "outputs": [],
   "source": [
    "import cv2\n",
    "from matplotlib import pyplot as plt\n",
    "import numpy as np\n",
    "import imutils\n",
    "import easyocr\n",
    "import pytesseract\n",
    "from tensorflow.keras.preprocessing.image import img_to_array, load_img"
   ]
  },
  {
   "cell_type": "code",
   "execution_count": 70,
   "id": "5e969939",
   "metadata": {},
   "outputs": [],
   "source": [
    "path = './ANPRwithPython/lp-technosys1-15380-2464-20220724-073219.jpeg'\n",
    "img = cv2.imread(path)\n",
    "gray = cv2.cvtColor(img, cv2.COLOR_BGR2GRAY)\n",
    "th = cv2.adaptiveThreshold(gray,255,cv2.ADAPTIVE_THRESH_GAUSSIAN_C,cv2.THRESH_BINARY,11,2)\n",
    "kernel = np.ones((1, 1), np.uint8)\n",
    "th = cv2.erode(th, kernel, iterations=1)\n",
    "th = cv2.dilate(th, kernel, iterations=1)\n",
    "th = cv2.medianBlur(th, 3)\n"
   ]
  },
  {
   "cell_type": "code",
   "execution_count": 62,
   "id": "a29bf5d2",
   "metadata": {},
   "outputs": [
    {
     "data": {
      "text/plain": [
       "<matplotlib.image.AxesImage at 0x1e64da9dc70>"
      ]
     },
     "execution_count": 62,
     "metadata": {},
     "output_type": "execute_result"
    },
    {
     "data": {
      "image/png": "[encoded data removed]",
      "text/plain": [
       "<Figure size 640x480 with 1 Axes>"
      ]
     },
     "metadata": {},
     "output_type": "display_data"
    }
   ],
   "source": [
    "plt.imshow(th)"
   ]
  },
  {
   "cell_type": "code",
   "execution_count": null,
   "id": "741de35b",
   "metadata": {},
   "outputs": [],
   "source": []
  },
  {
   "cell_type": "code",
   "execution_count": 66,
   "id": "6009589f",
   "metadata": {},
   "outputs": [],
   "source": [
    "# pytesseract.pytesseract.tesseract_cmd = r'C:\\Users\\HP\\AppData\\Local\\Tesseract-OCR\\tesseract.exe'"
   ]
  },
  {
   "cell_type": "code",
   "execution_count": 68,
   "id": "4df1aa6b",
   "metadata": {},
   "outputs": [],
   "source": [
    "text = pytesseract.image_to_string(th)\n"
   ]
  },
  {
   "cell_type": "code",
   "execution_count": 69,
   "id": "151be4c2",
   "metadata": {},
   "outputs": [
    {
     "name": "stdout",
     "output_type": "stream",
     "text": [
      " \n",
      "\n",
      "\n"
     ]
    }
   ],
   "source": [
    "print(text)"
   ]
  },
  {
   "cell_type": "code",
   "execution_count": null,
   "id": "44a7d2b1",
   "metadata": {},
   "outputs": [],
   "source": []
  },
  {
   "cell_type": "code",
   "execution_count": null,
   "id": "aeb89b5a",
   "metadata": {},
   "outputs": [],
   "source": []
  }
 ],
 "metadata": {
  "kernelspec": {
   "display_name": "Python 3 (ipykernel)",
   "language": "python",
   "name": "python3"
  },
  "language_info": {
   "codemirror_mode": {
    "name": "ipython",
    "version": 3
   },
   "file_extension": ".py",
   "mimetype": "text/x-python",
   "name": "python",
   "nbconvert_exporter": "python",
   "pygments_lexer": "ipython3",
   "version": "3.9.0"
  }
 },
 "nbformat": 4,
 "nbformat_minor": 5
}
